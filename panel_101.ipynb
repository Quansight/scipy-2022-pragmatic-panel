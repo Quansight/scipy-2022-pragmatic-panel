{
 "cells": [
  {
   "cell_type": "code",
   "execution_count": null,
   "id": "c0462830-fe6a-4064-b657-bd63d2746e3e",
   "metadata": {},
   "outputs": [],
   "source": [
    "import param\n",
    "import numpy as np\n",
    "import holoviews as hv\n",
    "import panel as pn\n",
    "\n",
    "pn.extension()"
   ]
  },
  {
   "cell_type": "code",
   "execution_count": null,
   "id": "54d22e93-edbd-4b9a-8bde-801043dc57d7",
   "metadata": {
    "tags": []
   },
   "outputs": [],
   "source": [
    "slider = pn.widgets.FloatSlider(start=0, end=10, name='This is a Slider!' ).servable()\n",
    "slider"
   ]
  },
  {
   "cell_type": "code",
   "execution_count": null,
   "id": "2fa554d7-3f85-4322-99d3-4a3891031d80",
   "metadata": {},
   "outputs": [],
   "source": []
  }
 ],
 "metadata": {
  "kernelspec": {
   "display_name": "Python 3 (ipykernel)",
   "language": "python",
   "name": "python3"
  },
  "language_info": {
   "codemirror_mode": {
    "name": "ipython",
    "version": 3
   },
   "file_extension": ".py",
   "mimetype": "text/x-python",
   "name": "python",
   "nbconvert_exporter": "python",
   "pygments_lexer": "ipython3",
   "version": "3.10.4"
  }
 },
 "nbformat": 4,
 "nbformat_minor": 5
}
