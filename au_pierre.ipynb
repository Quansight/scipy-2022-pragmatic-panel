{
 "cells": [
  {
   "cell_type": "code",
   "execution_count": null,
   "id": "c6efa040-6d35-4449-99eb-e2d3b2fcc10a",
   "metadata": {},
   "outputs": [],
   "source": [
    "import numpy as np\n",
    "import holoviews as hv\n",
    "import panel as pn\n",
    "\n",
    "hv.extension('bokeh')\n",
    "pn.extension()"
   ]
  },
  {
   "cell_type": "code",
   "execution_count": null,
   "id": "491788ca-f2e8-4743-92b4-df9c9dca5b0e",
   "metadata": {},
   "outputs": [],
   "source": [
    "# Define an image\n",
    "img = hv.RGB.load_image('/Users/kcp/Downloads/20220714_104457.jpg').opts(\n",
    "    height=400, width=300, \n",
    "    )\n",
    "    \n",
    "\n",
    "def zoomed(x_range, y_range):\n",
    "    # Apply current ranges\n",
    "    obj = img.select(x=x_range, y=y_range) if x_range and y_range else img\n",
    "\n",
    "    return obj\n",
    "\n",
    "# Define a RangeXY stream linked to the image \n",
    "rangexy = hv.streams.RangeXY(source=img)\n",
    "\n",
    "dmap = hv.DynamicMap(zoomed, streams=[rangexy])\n",
    "# img"
   ]
  },
  {
   "cell_type": "code",
   "execution_count": null,
   "id": "5e055288-826c-4ce9-94b7-7098f425f86c",
   "metadata": {},
   "outputs": [],
   "source": [
    "pn.state.location.sync(rangexy)"
   ]
  },
  {
   "cell_type": "code",
   "execution_count": null,
   "id": "d9002584-f0d2-4e19-85eb-871bb730a1ac",
   "metadata": {},
   "outputs": [],
   "source": [
    "pn.panel(img).servable()"
   ]
  },
  {
   "cell_type": "code",
   "execution_count": null,
   "id": "88247a4b-2637-4ff5-b03a-038b199751d5",
   "metadata": {},
   "outputs": [],
   "source": []
  }
 ],
 "metadata": {
  "kernelspec": {
   "display_name": "Python 3 (ipykernel)",
   "language": "python",
   "name": "python3"
  },
  "language_info": {
   "codemirror_mode": {
    "name": "ipython",
    "version": 3
   },
   "file_extension": ".py",
   "mimetype": "text/x-python",
   "name": "python",
   "nbconvert_exporter": "python",
   "pygments_lexer": "ipython3",
   "version": "3.10.4"
  }
 },
 "nbformat": 4,
 "nbformat_minor": 5
}
